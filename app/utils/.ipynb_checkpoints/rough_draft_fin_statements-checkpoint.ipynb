{
 "cells": [
  {
   "cell_type": "code",
   "execution_count": 1,
   "id": "5920c0c2-defc-4bf0-a76d-1df543b31fa6",
   "metadata": {},
   "outputs": [],
   "source": [
    "import pandas as pd\n",
    "from get_statements import get_fin_statements"
   ]
  },
  {
   "cell_type": "code",
   "execution_count": 37,
   "id": "d015c5aa-d2fc-4626-9245-94c41cb2891f",
   "metadata": {},
   "outputs": [],
   "source": [
    "#List of tickers received\n",
    "\n",
    "tickers = ['aapl', 'nvda', 'goog', 'meta','ionq','strr','dx','o','intc']\n",
    "tickers = [x.strip().upper() for x in tickers]"
   ]
  },
  {
   "cell_type": "code",
   "execution_count": 38,
   "id": "d93a5e12-a3ca-4cbd-92a5-5b39e5b06d17",
   "metadata": {},
   "outputs": [],
   "source": [
    "###using list comprehension to download and store \n",
    "###financial statement data in a list of tuples with nested dictionaries\n",
    "\n",
    "tickers_statements = [get_fin_statements(x) for x in tickers]"
   ]
  },
  {
   "cell_type": "code",
   "execution_count": 39,
   "id": "3f10d061-f1e5-4d07-8785-5386629719c2",
   "metadata": {},
   "outputs": [],
   "source": [
    "tickers_income_statements = {\n",
    "    tickers_statements[x][0]:tickers_statements[x][1]['income_statement']\n",
    "    for x in range(len(tickers_statements))\n",
    "}"
   ]
  },
  {
   "cell_type": "code",
   "execution_count": 40,
   "id": "b5640b74-d701-455b-8817-f2c48da944af",
   "metadata": {},
   "outputs": [],
   "source": [
    "tickers_balance_sheets = {\n",
    "    tickers_statements[x][0]:tickers_statements[x][1]['balance_sheet']\n",
    "    for x in range(len(tickers_statements))\n",
    "}"
   ]
  },
  {
   "cell_type": "code",
   "execution_count": 41,
   "id": "4696a468-438d-42f7-b7ad-a77854052b7f",
   "metadata": {},
   "outputs": [],
   "source": [
    "tickers_cash_flow_statements = {\n",
    "    tickers_statements[x][0]:tickers_statements[x][1]['cashflow_statement']\n",
    "    for x in range(len(tickers_statements))\n",
    "}"
   ]
  },
  {
   "cell_type": "code",
   "execution_count": 42,
   "id": "7c52b87b-74dc-46e9-8ea0-0af33baaa920",
   "metadata": {},
   "outputs": [
    {
     "data": {
      "text/plain": [
       "dict_keys(['AAPL', 'NVDA', 'GOOG', 'META', 'IONQ', 'STRR', 'DX', 'O', 'INTC'])"
      ]
     },
     "execution_count": 42,
     "metadata": {},
     "output_type": "execute_result"
    }
   ],
   "source": [
    "tickers_cash_flow_statements.keys()"
   ]
  },
  {
   "cell_type": "code",
   "execution_count": 55,
   "id": "90f7ae78-afea-44b0-9c66-5a02eebb521f",
   "metadata": {},
   "outputs": [
    {
     "data": {
      "text/plain": [
       "2024-09-30    108807000000.0\n",
       "2023-09-30     99584000000.0\n",
       "2022-09-30    111443000000.0\n",
       "2021-09-30     92953000000.0\n",
       "2020-09-30               NaN\n",
       "Name: Free Cash Flow, dtype: object"
      ]
     },
     "execution_count": 55,
     "metadata": {},
     "output_type": "execute_result"
    }
   ],
   "source": [
    "tickers_cash_flow_statements['AAPL'].loc['Free Cash Flow']"
   ]
  },
  {
   "cell_type": "code",
   "execution_count": 60,
   "id": "4c5ec013-f0a9-4ba7-9b44-da016be77f42",
   "metadata": {},
   "outputs": [
    {
     "name": "stdout",
     "output_type": "stream",
     "text": [
      "AAPL\n",
      " 2024-09-30    108807000000.0\n",
      "2023-09-30     99584000000.0\n",
      "2022-09-30    111443000000.0\n",
      "2021-09-30     92953000000.0\n",
      "2020-09-30               NaN\n",
      "Name: Free Cash Flow, dtype: object\n",
      "NVDA\n",
      " 2024-01-31    27021000000.0\n",
      "2023-01-31     3808000000.0\n",
      "2022-01-31     8132000000.0\n",
      "2021-01-31     4694000000.0\n",
      "Name: Free Cash Flow, dtype: object\n",
      "GOOG\n",
      " 2024-12-31    72764000000.0\n",
      "2023-12-31    69495000000.0\n",
      "2022-12-31    60010000000.0\n",
      "2021-12-31    67012000000.0\n",
      "2020-12-31              NaN\n",
      "Name: Free Cash Flow, dtype: object\n",
      "META\n",
      " 2024-12-31    54072000000.0\n",
      "2023-12-31    44068000000.0\n",
      "2022-12-31    19289000000.0\n",
      "2021-12-31    38993000000.0\n",
      "2020-12-31              NaN\n",
      "Name: Free Cash Flow, dtype: object\n",
      "IONQ\n",
      " 2023-12-31   -98360000.0\n",
      "2022-12-31   -57262000.0\n",
      "2021-12-31   -36561000.0\n",
      "2020-12-31   -23683000.0\n",
      "Name: Free Cash Flow, dtype: object\n",
      "STRR\n",
      " 2023-12-31    2000000.0\n",
      "2022-12-31   -5046000.0\n",
      "2021-12-31   -7238000.0\n",
      "2020-12-31   -6446000.0\n",
      "Name: Free Cash Flow, dtype: object\n",
      "DX\n",
      " 2023-12-31     62200000.0\n",
      "2022-12-31    126352000.0\n",
      "2021-12-31    146970000.0\n",
      "2020-12-31    173952000.0\n",
      "Name: Free Cash Flow, dtype: object\n",
      "O\n",
      " 2023-12-31    2958769000.0\n",
      "2022-12-31    2563856000.0\n",
      "2021-12-31    1322189000.0\n",
      "2020-12-31    1115543000.0\n",
      "Name: Free Cash Flow, dtype: object\n",
      "INTC\n",
      " 2024-12-31   -15656000000.0\n",
      "2023-12-31   -14279000000.0\n",
      "2022-12-31    -9411000000.0\n",
      "2021-12-31     9127000000.0\n",
      "2020-12-31              NaN\n",
      "Name: Free Cash Flow, dtype: object\n"
     ]
    }
   ],
   "source": [
    "for x in tickers_cash_flow_statements.keys():\n",
    "    print(f'{x}\\n', \n",
    "        tickers_cash_flow_statements[x].loc['Free Cash Flow'])"
   ]
  },
  {
   "cell_type": "code",
   "execution_count": null,
   "id": "549ac126-2765-4d92-9130-fe2654191cea",
   "metadata": {},
   "outputs": [],
   "source": []
  }
 ],
 "metadata": {
  "kernelspec": {
   "display_name": "Python 3 (ipykernel)",
   "language": "python",
   "name": "python3"
  },
  "language_info": {
   "codemirror_mode": {
    "name": "ipython",
    "version": 3
   },
   "file_extension": ".py",
   "mimetype": "text/x-python",
   "name": "python",
   "nbconvert_exporter": "python",
   "pygments_lexer": "ipython3",
   "version": "3.12.7"
  }
 },
 "nbformat": 4,
 "nbformat_minor": 5
}
