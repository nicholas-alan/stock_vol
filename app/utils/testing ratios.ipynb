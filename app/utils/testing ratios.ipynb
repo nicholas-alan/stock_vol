{
 "cells": [
  {
   "cell_type": "code",
   "execution_count": 6,
   "id": "fc8ea456-b8e0-4094-b85a-4e8d28347a07",
   "metadata": {},
   "outputs": [],
   "source": [
    "from financial_line_items import financial_line_items\n",
    "import get_statements\n",
    "import importlib"
   ]
  },
  {
   "cell_type": "code",
   "execution_count": 7,
   "id": "614b382a-ef0c-49a0-a9ed-241e73391a33",
   "metadata": {},
   "outputs": [],
   "source": [
    "stocks = ['nvda', 'aapl']"
   ]
  },
  {
   "cell_type": "code",
   "execution_count": 8,
   "id": "e48b36cb-d415-48cf-9891-8ba2f587282b",
   "metadata": {},
   "outputs": [
    {
     "ename": "AttributeError",
     "evalue": "'list' object has no attribute 'strip'",
     "output_type": "error",
     "traceback": [
      "\u001b[0;31m---------------------------------------------------------------------------\u001b[0m",
      "\u001b[0;31mAttributeError\u001b[0m                            Traceback (most recent call last)",
      "Cell \u001b[0;32mIn[8], line 1\u001b[0m\n\u001b[0;32m----> 1\u001b[0m \u001b[43mfinancial_line_items\u001b[49m\u001b[43m(\u001b[49m\u001b[43mstocks\u001b[49m\u001b[43m)\u001b[49m\n",
      "File \u001b[0;32m~/code_bro/jack/ceo_2_ceo/app/utils/financial_line_items.py:10\u001b[0m, in \u001b[0;36mfinancial_line_items\u001b[0;34m(stocks)\u001b[0m\n\u001b[1;32m      8\u001b[0m \u001b[38;5;66;03m### Fetches Statements of n-number of stocks and stores in two dictionaries of annual and quarterly statements.\u001b[39;00m\n\u001b[1;32m      9\u001b[0m portfolio_statements \u001b[38;5;241m=\u001b[39m get_statements\u001b[38;5;241m.\u001b[39mtickers_statements(stocks)\n\u001b[0;32m---> 10\u001b[0m portfolio_quarterly_statements \u001b[38;5;241m=\u001b[39m \u001b[43mget_statements\u001b[49m\u001b[38;5;241;43m.\u001b[39;49m\u001b[43mget_quarterly_fin_statements\u001b[49m\u001b[43m(\u001b[49m\u001b[43mstocks\u001b[49m\u001b[43m)\u001b[49m\n\u001b[1;32m     12\u001b[0m balance_sheets \u001b[38;5;241m=\u001b[39m get_statements\u001b[38;5;241m.\u001b[39mtickers_balance_sheets(portfolio_statements)\n\u001b[1;32m     13\u001b[0m income_statements \u001b[38;5;241m=\u001b[39m get_statements\u001b[38;5;241m.\u001b[39mtickers_income_statements(portfolio_statements)\n",
      "File \u001b[0;32m~/code_bro/jack/ceo_2_ceo/app/utils/get_statements.py:70\u001b[0m, in \u001b[0;36mget_quarterly_fin_statements\u001b[0;34m(ticker_symbol, start_date, end_date)\u001b[0m\n\u001b[1;32m     58\u001b[0m \u001b[38;5;28;01mdef\u001b[39;00m \u001b[38;5;21mget_quarterly_fin_statements\u001b[39m(ticker_symbol, start_date\u001b[38;5;241m=\u001b[39m\u001b[38;5;28;01mNone\u001b[39;00m, end_date\u001b[38;5;241m=\u001b[39m\u001b[38;5;28;01mNone\u001b[39;00m):\n\u001b[1;32m     59\u001b[0m \u001b[38;5;250m    \u001b[39m\u001b[38;5;124;03m\"\"\"Fetches the 3 quarterly financial statements via YFinance\u001b[39;00m\n\u001b[1;32m     60\u001b[0m \u001b[38;5;124;03m    \u001b[39;00m\n\u001b[1;32m     61\u001b[0m \u001b[38;5;124;03m    Parameters:\u001b[39;00m\n\u001b[0;32m   (...)\u001b[0m\n\u001b[1;32m     68\u001b[0m \u001b[38;5;124;03m        ticker_name and a dictionary containing quarterly statements.\u001b[39;00m\n\u001b[1;32m     69\u001b[0m \u001b[38;5;124;03m    \"\"\"\u001b[39;00m\n\u001b[0;32m---> 70\u001b[0m     ticker_symbol \u001b[38;5;241m=\u001b[39m \u001b[43mticker_symbol\u001b[49m\u001b[38;5;241;43m.\u001b[39;49m\u001b[43mstrip\u001b[49m()\u001b[38;5;241m.\u001b[39mupper()\n\u001b[1;32m     72\u001b[0m     stock \u001b[38;5;241m=\u001b[39m yf\u001b[38;5;241m.\u001b[39mTicker(ticker_symbol)\n\u001b[1;32m     74\u001b[0m     quarterly_income_statement \u001b[38;5;241m=\u001b[39m stock\u001b[38;5;241m.\u001b[39mquarterly_income_stmt\n",
      "\u001b[0;31mAttributeError\u001b[0m: 'list' object has no attribute 'strip'"
     ]
    }
   ],
   "source": [
    "financial_line_items(stocks)"
   ]
  },
  {
   "cell_type": "code",
   "execution_count": 9,
   "id": "7f0d95ff-1a58-4e33-8746-4203f66b3f30",
   "metadata": {},
   "outputs": [
    {
     "ename": "TypeError",
     "evalue": "string indices must be integers, not 'str'",
     "output_type": "error",
     "traceback": [
      "\u001b[0;31m---------------------------------------------------------------------------\u001b[0m",
      "\u001b[0;31mTypeError\u001b[0m                                 Traceback (most recent call last)",
      "Cell \u001b[0;32mIn[9], line 1\u001b[0m\n\u001b[0;32m----> 1\u001b[0m \u001b[43mget_statements\u001b[49m\u001b[38;5;241;43m.\u001b[39;49m\u001b[43mtickers_quarterly_balance_sheets\u001b[49m\u001b[43m(\u001b[49m\u001b[43mstocks\u001b[49m\u001b[43m)\u001b[49m\n",
      "File \u001b[0;32m~/code_bro/jack/ceo_2_ceo/app/utils/get_statements.py:104\u001b[0m, in \u001b[0;36mtickers_quarterly_balance_sheets\u001b[0;34m(tickers_quarterly_statements)\u001b[0m\n\u001b[1;32m    101\u001b[0m \u001b[38;5;28;01mdef\u001b[39;00m \u001b[38;5;21mtickers_quarterly_balance_sheets\u001b[39m(tickers_quarterly_statements):\n\u001b[1;32m    102\u001b[0m \u001b[38;5;250m    \u001b[39m\u001b[38;5;124;03m\"\"\"Extract quarterly balance sheets from fetched data.\"\"\"\u001b[39;00m\n\u001b[1;32m    103\u001b[0m     \u001b[38;5;28;01mreturn\u001b[39;00m {\n\u001b[0;32m--> 104\u001b[0m     tickers_quarterly_statements[x][\u001b[38;5;241m0\u001b[39m]:\u001b[43mtickers_quarterly_statements\u001b[49m\u001b[43m[\u001b[49m\u001b[43mx\u001b[49m\u001b[43m]\u001b[49m\u001b[43m[\u001b[49m\u001b[38;5;241;43m1\u001b[39;49m\u001b[43m]\u001b[49m\u001b[43m[\u001b[49m\u001b[38;5;124;43m'\u001b[39;49m\u001b[38;5;124;43mquarterly_balance_sheet\u001b[39;49m\u001b[38;5;124;43m'\u001b[39;49m\u001b[43m]\u001b[49m\n\u001b[1;32m    105\u001b[0m     \u001b[38;5;28;01mfor\u001b[39;00m x \u001b[38;5;129;01min\u001b[39;00m \u001b[38;5;28mrange\u001b[39m(\u001b[38;5;28mlen\u001b[39m(tickers_quarterly_statements))\n\u001b[1;32m    106\u001b[0m }\n",
      "\u001b[0;31mTypeError\u001b[0m: string indices must be integers, not 'str'"
     ]
    }
   ],
   "source": [
    "get_statements.tickers_quarterly_balance_sheets(stocks)"
   ]
  },
  {
   "cell_type": "code",
   "execution_count": 6,
   "id": "126dd3d3-1d0f-49f2-8533-a57efb783e5d",
   "metadata": {},
   "outputs": [],
   "source": [
    "from oop_financial_statements import TickerFinancials"
   ]
  },
  {
   "cell_type": "code",
   "execution_count": 7,
   "id": "60266a79-ea05-48e6-8a59-4078097f8c91",
   "metadata": {},
   "outputs": [],
   "source": [
    "def portfolio_pass(stocks):\n",
    "    return [TickerFinancials(x) for x in stocks]"
   ]
  },
  {
   "cell_type": "code",
   "execution_count": 8,
   "id": "2a4e2cb6-ae26-481c-9f50-2a0fdd5a3a88",
   "metadata": {},
   "outputs": [],
   "source": [
    "portfolio = portfolio_pass(stocks)"
   ]
  },
  {
   "cell_type": "code",
   "execution_count": 11,
   "id": "b29a02e3-f338-42c9-8667-8ab37740f281",
   "metadata": {},
   "outputs": [],
   "source": [
    "assets = portfolio[0].get_quarterly_line_item('balance_sheet', 'Total Assets') \n",
    "debt =portfolio[0].get_quarterly_line_item('balance_sheet', 'Total Debt')"
   ]
  },
  {
   "cell_type": "code",
   "execution_count": 13,
   "id": "8c222a79-b0a4-412a-afb8-4792c6e1792e",
   "metadata": {},
   "outputs": [],
   "source": [
    "debt_to_assets = (assets[0], (debt[1] / assets[1]) )"
   ]
  },
  {
   "cell_type": "code",
   "execution_count": 14,
   "id": "4eeb2aeb-cce5-4e0a-915b-08291615cf2f",
   "metadata": {},
   "outputs": [
    {
     "data": {
      "text/plain": [
       "('NVDA',\n",
       " 2024-10-31    0.106496\n",
       " 2024-07-31     0.11751\n",
       " 2024-04-30    0.145799\n",
       " 2024-01-31    0.168208\n",
       " 2023-10-31    0.203646\n",
       " 2023-07-31         NaN\n",
       " dtype: object)"
      ]
     },
     "execution_count": 14,
     "metadata": {},
     "output_type": "execute_result"
    }
   ],
   "source": [
    "debt_to_assets"
   ]
  },
  {
   "cell_type": "code",
   "execution_count": 18,
   "id": "91e8d8c9-86ac-4f53-91ee-35a7cc40434c",
   "metadata": {},
   "outputs": [],
   "source": [
    "def financial_ratios(ticker_thing):\n",
    "    name = ticker_thing.ticker_symbol\n",
    "\n",
    "    assets = ticker_thing.get_quarterly_line_item(\n",
    "        'balance_sheet', 'Total Assets')\n",
    "    debt = ticker_thing.get_quarterly_line_item(\n",
    "        'balance_sheet', 'Total Debt')\n",
    "    cur_assets = ticker_thing.get_quarterly_line_item(\n",
    "        'balance_sheet', 'Current Assets')\n",
    "    cur_debt = ticker_thing.get_quarterly_line_item(\n",
    "        'balance_sheet', 'Current Debt')\n",
    "    inventory = ticker_thing.get_quarterly_line_item(\n",
    "        'balance_sheet', 'Inventory')\n",
    "    cur_liab = ticker_thing.get_quarterly_line_item(\n",
    "        'balance_sheet', 'Current Liabilities')\n",
    "    equity = ticker_thing.get_quarterly_line_item(\n",
    "        'balance_sheet', 'Stockholders Equity')\n",
    "    net_income = ticker_thing.get_quarterly_line_item(\n",
    "        'income', 'Net Income')\n",
    "    operating_income = ticker_thing.get_quarterly_line_item(\n",
    "        'income', 'Operating Income')\n",
    "    interest_expense = ticker_thing.get_quarterly_line_item(\n",
    "        'income', 'Interest Expense')\n",
    "\n",
    "    acid_test = (cur_assets[1] - inventory[1]) / cur_liab[1]\n",
    "    current_ratio = cur_assets[1] / cur_liab[1]\n",
    "    debt_equity = debt[1] / equity[1]\n",
    "    return_on_assets = net_income[1] / assets[1]\n",
    "    return_on_equity = net_income[1] / equity[1]\n",
    "    interest_coverage = operating_income[1] / interest_expense[1]\n",
    "    \n",
    "    ratios = {\n",
    "        'Acid Test':acid_test,\n",
    "        'Current Ratio':current_ratio,\n",
    "        'Debt to Equity':debt_equity,\n",
    "        'Return on Assets':return_on_assets,\n",
    "        'Return on Equity':return_on_equity,\n",
    "        'Interest Coverage':interest_coverage\n",
    "    \n",
    "    }\n",
    "    \n",
    "\n",
    "    return name, ratios"
   ]
  },
  {
   "cell_type": "code",
   "execution_count": 21,
   "id": "b8aaaa48-8b16-4dcd-9d59-3b76282369bd",
   "metadata": {},
   "outputs": [],
   "source": [
    "nvda_ratio = financial_ratios(portfolio[0])"
   ]
  },
  {
   "cell_type": "code",
   "execution_count": 20,
   "id": "28954db0-534c-4ff2-9a07-cd3dbad76b89",
   "metadata": {},
   "outputs": [],
   "source": [
    "import pandas as pd"
   ]
  },
  {
   "cell_type": "code",
   "execution_count": 25,
   "id": "da559ce0-6977-4a1f-a56b-915b59158d74",
   "metadata": {},
   "outputs": [
    {
     "data": {
      "text/html": [
       "<div>\n",
       "<style scoped>\n",
       "    .dataframe tbody tr th:only-of-type {\n",
       "        vertical-align: middle;\n",
       "    }\n",
       "\n",
       "    .dataframe tbody tr th {\n",
       "        vertical-align: top;\n",
       "    }\n",
       "\n",
       "    .dataframe thead th {\n",
       "        text-align: right;\n",
       "    }\n",
       "</style>\n",
       "<table border=\"1\" class=\"dataframe\">\n",
       "  <thead>\n",
       "    <tr style=\"text-align: right;\">\n",
       "      <th></th>\n",
       "      <th>2024-10-31</th>\n",
       "      <th>2024-07-31</th>\n",
       "      <th>2024-04-30</th>\n",
       "      <th>2024-01-31</th>\n",
       "      <th>2023-10-31</th>\n",
       "      <th>2023-07-31</th>\n",
       "    </tr>\n",
       "  </thead>\n",
       "  <tbody>\n",
       "    <tr>\n",
       "      <th>Acid Test</th>\n",
       "      <td>3.640148</td>\n",
       "      <td>3.791109</td>\n",
       "      <td>3.144255</td>\n",
       "      <td>3.674443</td>\n",
       "      <td>3.06329</td>\n",
       "      <td>NaN</td>\n",
       "    </tr>\n",
       "    <tr>\n",
       "      <th>Current Ratio</th>\n",
       "      <td>4.104618</td>\n",
       "      <td>4.268953</td>\n",
       "      <td>3.529462</td>\n",
       "      <td>4.171292</td>\n",
       "      <td>3.588397</td>\n",
       "      <td>NaN</td>\n",
       "    </tr>\n",
       "    <tr>\n",
       "      <th>Debt to Equity</th>\n",
       "      <td>0.155162</td>\n",
       "      <td>0.172206</td>\n",
       "      <td>0.228664</td>\n",
       "      <td>0.257248</td>\n",
       "      <td>0.33149</td>\n",
       "      <td>NaN</td>\n",
       "    </tr>\n",
       "    <tr>\n",
       "      <th>Return on Assets</th>\n",
       "      <td>0.201108</td>\n",
       "      <td>0.194762</td>\n",
       "      <td>0.193079</td>\n",
       "      <td>0.186907</td>\n",
       "      <td>0.170699</td>\n",
       "      <td>NaN</td>\n",
       "    </tr>\n",
       "    <tr>\n",
       "      <th>Return on Equity</th>\n",
       "      <td>0.293009</td>\n",
       "      <td>0.285417</td>\n",
       "      <td>0.302816</td>\n",
       "      <td>0.285844</td>\n",
       "      <td>0.27786</td>\n",
       "      <td>NaN</td>\n",
       "    </tr>\n",
       "    <tr>\n",
       "      <th>Interest Coverage</th>\n",
       "      <td>358.508197</td>\n",
       "      <td>305.606557</td>\n",
       "      <td>264.203125</td>\n",
       "      <td>216.095238</td>\n",
       "      <td>165.349206</td>\n",
       "      <td>NaN</td>\n",
       "    </tr>\n",
       "  </tbody>\n",
       "</table>\n",
       "</div>"
      ],
      "text/plain": [
       "                   2024-10-31  2024-07-31  2024-04-30  2024-01-31  2023-10-31  \\\n",
       "Acid Test            3.640148    3.791109    3.144255    3.674443     3.06329   \n",
       "Current Ratio        4.104618    4.268953    3.529462    4.171292    3.588397   \n",
       "Debt to Equity       0.155162    0.172206    0.228664    0.257248     0.33149   \n",
       "Return on Assets     0.201108    0.194762    0.193079    0.186907    0.170699   \n",
       "Return on Equity     0.293009    0.285417    0.302816    0.285844     0.27786   \n",
       "Interest Coverage  358.508197  305.606557  264.203125  216.095238  165.349206   \n",
       "\n",
       "                  2023-07-31  \n",
       "Acid Test                NaN  \n",
       "Current Ratio            NaN  \n",
       "Debt to Equity           NaN  \n",
       "Return on Assets         NaN  \n",
       "Return on Equity         NaN  \n",
       "Interest Coverage        NaN  "
      ]
     },
     "execution_count": 25,
     "metadata": {},
     "output_type": "execute_result"
    }
   ],
   "source": [
    "pd.DataFrame(nvda_ratio[1]).T"
   ]
  },
  {
   "cell_type": "code",
   "execution_count": null,
   "id": "3e96ca66-4e11-4f69-8046-ebe29f33636b",
   "metadata": {},
   "outputs": [],
   "source": []
  }
 ],
 "metadata": {
  "kernelspec": {
   "display_name": "Python 3 (ipykernel)",
   "language": "python",
   "name": "python3"
  },
  "language_info": {
   "codemirror_mode": {
    "name": "ipython",
    "version": 3
   },
   "file_extension": ".py",
   "mimetype": "text/x-python",
   "name": "python",
   "nbconvert_exporter": "python",
   "pygments_lexer": "ipython3",
   "version": "3.12.7"
  }
 },
 "nbformat": 4,
 "nbformat_minor": 5
}
