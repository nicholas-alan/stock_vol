{
 "cells": [
  {
   "cell_type": "code",
   "execution_count": 3,
   "id": "7ed0251a-425d-43af-abbb-63a561ee0943",
   "metadata": {},
   "outputs": [
    {
     "ename": "ImportError",
     "evalue": "cannot import name 'get_price_data' from 'utils.get_price_data' (/Users/nicho/code_bro/jack/ceo_2_ceo/app/utils/get_price_data.py)",
     "output_type": "error",
     "traceback": [
      "\u001b[0;31m---------------------------------------------------------------------------\u001b[0m",
      "\u001b[0;31mImportError\u001b[0m                               Traceback (most recent call last)",
      "Cell \u001b[0;32mIn[3], line 1\u001b[0m\n\u001b[0;32m----> 1\u001b[0m \u001b[38;5;28;01mfrom\u001b[39;00m \u001b[38;5;21;01mutils\u001b[39;00m\u001b[38;5;21;01m.\u001b[39;00m\u001b[38;5;21;01mget_price_data\u001b[39;00m \u001b[38;5;28;01mimport\u001b[39;00m get_price_data\n",
      "\u001b[0;31mImportError\u001b[0m: cannot import name 'get_price_data' from 'utils.get_price_data' (/Users/nicho/code_bro/jack/ceo_2_ceo/app/utils/get_price_data.py)"
     ]
    }
   ],
   "source": [
    "from utils.get_price_data import get_price_data"
   ]
  },
  {
   "cell_type": "code",
   "execution_count": null,
   "id": "e41ae4e0-279c-47da-a2c4-fdfd0398f805",
   "metadata": {},
   "outputs": [],
   "source": []
  }
 ],
 "metadata": {
  "kernelspec": {
   "display_name": "Python 3 (ipykernel)",
   "language": "python",
   "name": "python3"
  },
  "language_info": {
   "codemirror_mode": {
    "name": "ipython",
    "version": 3
   },
   "file_extension": ".py",
   "mimetype": "text/x-python",
   "name": "python",
   "nbconvert_exporter": "python",
   "pygments_lexer": "ipython3",
   "version": "3.12.7"
  }
 },
 "nbformat": 4,
 "nbformat_minor": 5
}
